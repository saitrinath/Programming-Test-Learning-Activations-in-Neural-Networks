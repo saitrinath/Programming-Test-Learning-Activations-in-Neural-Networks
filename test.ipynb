{
 "cells": [
  {
   "cell_type": "code",
   "execution_count": 1,
   "id": "867447b0",
   "metadata": {},
   "outputs": [],
   "source": [
    "from pandas import read_csv\n",
    "from sklearn.model_selection import train_test_split\n",
    "from sklearn.preprocessing import LabelEncoder\n",
    "from sklearn.metrics import accuracy_score\n",
    "from tensorflow.keras import Sequential\n",
    "from tensorflow.keras.layers import Dense\n",
    "from matplotlib import pyplot\n",
    "import tensorflow as tf"
   ]
  },
  {
   "cell_type": "code",
   "execution_count": 2,
   "id": "d67881b9",
   "metadata": {},
   "outputs": [],
   "source": [
    "import matplotlib.pyplot as plt\n"
   ]
  },
  {
   "cell_type": "code",
   "execution_count": 3,
   "id": "a6082a15",
   "metadata": {},
   "outputs": [],
   "source": [
    "path = 'https://raw.githubusercontent.com/jbrownlee/Datasets/master/banknote_authentication.csv'\n",
    "df = read_csv(path, header=None)"
   ]
  },
  {
   "cell_type": "code",
   "execution_count": 4,
   "id": "e0e2c910",
   "metadata": {},
   "outputs": [
    {
     "data": {
      "text/html": [
       "<div>\n",
       "<style scoped>\n",
       "    .dataframe tbody tr th:only-of-type {\n",
       "        vertical-align: middle;\n",
       "    }\n",
       "\n",
       "    .dataframe tbody tr th {\n",
       "        vertical-align: top;\n",
       "    }\n",
       "\n",
       "    .dataframe thead th {\n",
       "        text-align: right;\n",
       "    }\n",
       "</style>\n",
       "<table border=\"1\" class=\"dataframe\">\n",
       "  <thead>\n",
       "    <tr style=\"text-align: right;\">\n",
       "      <th></th>\n",
       "      <th>0</th>\n",
       "      <th>1</th>\n",
       "      <th>2</th>\n",
       "      <th>3</th>\n",
       "      <th>4</th>\n",
       "    </tr>\n",
       "  </thead>\n",
       "  <tbody>\n",
       "    <tr>\n",
       "      <th>0</th>\n",
       "      <td>3.62160</td>\n",
       "      <td>8.66610</td>\n",
       "      <td>-2.8073</td>\n",
       "      <td>-0.44699</td>\n",
       "      <td>0</td>\n",
       "    </tr>\n",
       "    <tr>\n",
       "      <th>1</th>\n",
       "      <td>4.54590</td>\n",
       "      <td>8.16740</td>\n",
       "      <td>-2.4586</td>\n",
       "      <td>-1.46210</td>\n",
       "      <td>0</td>\n",
       "    </tr>\n",
       "    <tr>\n",
       "      <th>2</th>\n",
       "      <td>3.86600</td>\n",
       "      <td>-2.63830</td>\n",
       "      <td>1.9242</td>\n",
       "      <td>0.10645</td>\n",
       "      <td>0</td>\n",
       "    </tr>\n",
       "    <tr>\n",
       "      <th>3</th>\n",
       "      <td>3.45660</td>\n",
       "      <td>9.52280</td>\n",
       "      <td>-4.0112</td>\n",
       "      <td>-3.59440</td>\n",
       "      <td>0</td>\n",
       "    </tr>\n",
       "    <tr>\n",
       "      <th>4</th>\n",
       "      <td>0.32924</td>\n",
       "      <td>-4.45520</td>\n",
       "      <td>4.5718</td>\n",
       "      <td>-0.98880</td>\n",
       "      <td>0</td>\n",
       "    </tr>\n",
       "    <tr>\n",
       "      <th>...</th>\n",
       "      <td>...</td>\n",
       "      <td>...</td>\n",
       "      <td>...</td>\n",
       "      <td>...</td>\n",
       "      <td>...</td>\n",
       "    </tr>\n",
       "    <tr>\n",
       "      <th>1367</th>\n",
       "      <td>0.40614</td>\n",
       "      <td>1.34920</td>\n",
       "      <td>-1.4501</td>\n",
       "      <td>-0.55949</td>\n",
       "      <td>1</td>\n",
       "    </tr>\n",
       "    <tr>\n",
       "      <th>1368</th>\n",
       "      <td>-1.38870</td>\n",
       "      <td>-4.87730</td>\n",
       "      <td>6.4774</td>\n",
       "      <td>0.34179</td>\n",
       "      <td>1</td>\n",
       "    </tr>\n",
       "    <tr>\n",
       "      <th>1369</th>\n",
       "      <td>-3.75030</td>\n",
       "      <td>-13.45860</td>\n",
       "      <td>17.5932</td>\n",
       "      <td>-2.77710</td>\n",
       "      <td>1</td>\n",
       "    </tr>\n",
       "    <tr>\n",
       "      <th>1370</th>\n",
       "      <td>-3.56370</td>\n",
       "      <td>-8.38270</td>\n",
       "      <td>12.3930</td>\n",
       "      <td>-1.28230</td>\n",
       "      <td>1</td>\n",
       "    </tr>\n",
       "    <tr>\n",
       "      <th>1371</th>\n",
       "      <td>-2.54190</td>\n",
       "      <td>-0.65804</td>\n",
       "      <td>2.6842</td>\n",
       "      <td>1.19520</td>\n",
       "      <td>1</td>\n",
       "    </tr>\n",
       "  </tbody>\n",
       "</table>\n",
       "<p>1372 rows × 5 columns</p>\n",
       "</div>"
      ],
      "text/plain": [
       "            0         1        2        3  4\n",
       "0     3.62160   8.66610  -2.8073 -0.44699  0\n",
       "1     4.54590   8.16740  -2.4586 -1.46210  0\n",
       "2     3.86600  -2.63830   1.9242  0.10645  0\n",
       "3     3.45660   9.52280  -4.0112 -3.59440  0\n",
       "4     0.32924  -4.45520   4.5718 -0.98880  0\n",
       "...       ...       ...      ...      ... ..\n",
       "1367  0.40614   1.34920  -1.4501 -0.55949  1\n",
       "1368 -1.38870  -4.87730   6.4774  0.34179  1\n",
       "1369 -3.75030 -13.45860  17.5932 -2.77710  1\n",
       "1370 -3.56370  -8.38270  12.3930 -1.28230  1\n",
       "1371 -2.54190  -0.65804   2.6842  1.19520  1\n",
       "\n",
       "[1372 rows x 5 columns]"
      ]
     },
     "execution_count": 4,
     "metadata": {},
     "output_type": "execute_result"
    }
   ],
   "source": [
    "df"
   ]
  },
  {
   "cell_type": "code",
   "execution_count": 5,
   "id": "90500f11",
   "metadata": {},
   "outputs": [],
   "source": [
    "X, y = df.values[:, :-1], df.values[:, -1]"
   ]
  },
  {
   "cell_type": "code",
   "execution_count": 6,
   "id": "d7a4bd84",
   "metadata": {},
   "outputs": [],
   "source": [
    "X = X.astype('float32')"
   ]
  },
  {
   "cell_type": "code",
   "execution_count": 7,
   "id": "10e14deb",
   "metadata": {},
   "outputs": [],
   "source": [
    "y = LabelEncoder().fit_transform(y)"
   ]
  },
  {
   "cell_type": "code",
   "execution_count": 8,
   "id": "31280e6f",
   "metadata": {},
   "outputs": [],
   "source": [
    "X_train, X_test, y_train, y_test = train_test_split(X, y, test_size=0.33)"
   ]
  },
  {
   "cell_type": "code",
   "execution_count": 9,
   "id": "93b0243a",
   "metadata": {},
   "outputs": [],
   "source": [
    "n_features = X.shape[1]"
   ]
  },
  {
   "cell_type": "code",
   "execution_count": 19,
   "id": "c150c2b8",
   "metadata": {},
   "outputs": [],
   "source": [
    "model = Sequential()\n",
    "model.add(Dense(10, activation='relu', kernel_initializer='he_normal', input_shape=(n_features,)))\n",
    "model.add(Dense(1, activation='sigmoid'))"
   ]
  },
  {
   "cell_type": "code",
   "execution_count": 20,
   "id": "ed90352e",
   "metadata": {},
   "outputs": [],
   "source": [
    "from keras import backend as K\n",
    "\n",
    "def recall_m(y_true, y_pred):\n",
    "    true_positives = K.sum(K.round(K.clip(y_true * y_pred, 0, 1)))\n",
    "    possible_positives = K.sum(K.round(K.clip(y_true, 0, 1)))\n",
    "    recall = true_positives / (possible_positives + K.epsilon())\n",
    "    return recall\n",
    "\n",
    "def precision_m(y_true, y_pred):\n",
    "    true_positives = K.sum(K.round(K.clip(y_true * y_pred, 0, 1)))\n",
    "    predicted_positives = K.sum(K.round(K.clip(y_pred, 0, 1)))\n",
    "    precision = true_positives / (predicted_positives + K.epsilon())\n",
    "    return precision\n",
    "\n",
    "def f1_m(y_true, y_pred):\n",
    "    precision = precision_m(y_true, y_pred)\n",
    "    recall = recall_m(y_true, y_pred)\n",
    "    return 2*((precision*recall)/(precision+recall+K.epsilon()))"
   ]
  },
  {
   "cell_type": "code",
   "execution_count": 21,
   "id": "ac890297",
   "metadata": {},
   "outputs": [],
   "source": [
    "model.compile(optimizer='adam', loss='binary_crossentropy', metrics=['acc',f1_m,precision_m, recall_m])"
   ]
  },
  {
   "cell_type": "code",
   "execution_count": 22,
   "id": "fef6d457",
   "metadata": {},
   "outputs": [],
   "source": [
    "weights_dict = {}"
   ]
  },
  {
   "cell_type": "code",
   "execution_count": 23,
   "id": "2799aed1",
   "metadata": {},
   "outputs": [],
   "source": [
    "callback = tf.keras.callbacks.LambdaCallback( on_epoch_end=lambda epoch, logs: weights_dict.update({epoch:model.get_weights()}))"
   ]
  },
  {
   "cell_type": "code",
   "execution_count": null,
   "id": "19e42c36",
   "metadata": {},
   "outputs": [],
   "source": []
  },
  {
   "cell_type": "code",
   "execution_count": 24,
   "id": "73f6b7f5",
   "metadata": {},
   "outputs": [],
   "source": [
    "model_weight = []\n",
    "weight_callback = tf.keras.callbacks.LambdaCallback(\n",
    "    on_epoch_end=lambda batch, logs: model_weight.append(\n",
    "        frobenius_norm(model_2.trainable_weights).numpy()))"
   ]
  },
  {
   "cell_type": "code",
   "execution_count": 25,
   "id": "cd16c2ab",
   "metadata": {},
   "outputs": [
    {
     "name": "stdout",
     "output_type": "stream",
     "text": [
      "Train on 919 samples, validate on 453 samples\n",
      "Epoch 1/30\n",
      "919/919 - 1s - loss: 2.0461 - acc: 0.4799 - f1_m: 0.4862 - precision_m: 0.4442 - recall_m: 0.5575 - val_loss: 1.6101 - val_acc: 0.5143 - val_f1_m: 0.4934 - val_precision_m: 0.4425 - val_recall_m: 0.5955\n",
      "Epoch 2/30\n",
      "919/919 - 0s - loss: 1.7028 - acc: 0.4886 - f1_m: 0.4906 - precision_m: 0.4472 - recall_m: 0.5571 - val_loss: 1.3501 - val_acc: 0.5320 - val_f1_m: 0.5053 - val_precision_m: 0.4605 - val_recall_m: 0.6010\n",
      "Epoch 3/30\n",
      "919/919 - 0s - loss: 1.4074 - acc: 0.5038 - f1_m: 0.5109 - precision_m: 0.4660 - recall_m: 0.5847 - val_loss: 1.1246 - val_acc: 0.5408 - val_f1_m: 0.4808 - val_precision_m: 0.4480 - val_recall_m: 0.5427\n",
      "Epoch 4/30\n",
      "919/919 - 0s - loss: 1.1595 - acc: 0.5245 - f1_m: 0.5215 - precision_m: 0.4748 - recall_m: 0.6016 - val_loss: 0.9447 - val_acc: 0.5894 - val_f1_m: 0.5227 - val_precision_m: 0.4891 - val_recall_m: 0.5818\n",
      "Epoch 5/30\n",
      "919/919 - 0s - loss: 0.9634 - acc: 0.6028 - f1_m: 0.5758 - precision_m: 0.5521 - recall_m: 0.6193 - val_loss: 0.7999 - val_acc: 0.6799 - val_f1_m: 0.5913 - val_precision_m: 0.5846 - val_recall_m: 0.6154\n",
      "Epoch 6/30\n",
      "919/919 - 0s - loss: 0.8089 - acc: 0.6692 - f1_m: 0.6303 - precision_m: 0.6295 - recall_m: 0.6448 - val_loss: 0.6874 - val_acc: 0.7086 - val_f1_m: 0.6176 - val_precision_m: 0.6206 - val_recall_m: 0.6272\n",
      "Epoch 7/30\n",
      "919/919 - 0s - loss: 0.6885 - acc: 0.7040 - f1_m: 0.6643 - precision_m: 0.6703 - recall_m: 0.6708 - val_loss: 0.5976 - val_acc: 0.7196 - val_f1_m: 0.6274 - val_precision_m: 0.6339 - val_recall_m: 0.6320\n",
      "Epoch 8/30\n",
      "919/919 - 0s - loss: 0.5918 - acc: 0.7258 - f1_m: 0.6872 - precision_m: 0.7027 - recall_m: 0.6839 - val_loss: 0.5245 - val_acc: 0.7329 - val_f1_m: 0.6406 - val_precision_m: 0.6468 - val_recall_m: 0.6459\n",
      "Epoch 9/30\n",
      "919/919 - 0s - loss: 0.5133 - acc: 0.7519 - f1_m: 0.7163 - precision_m: 0.7362 - recall_m: 0.7146 - val_loss: 0.4604 - val_acc: 0.7704 - val_f1_m: 0.6703 - val_precision_m: 0.6971 - val_recall_m: 0.6549\n",
      "Epoch 10/30\n",
      "919/919 - 0s - loss: 0.4458 - acc: 0.7704 - f1_m: 0.7242 - precision_m: 0.7636 - recall_m: 0.7040 - val_loss: 0.4061 - val_acc: 0.8079 - val_f1_m: 0.7041 - val_precision_m: 0.7723 - val_recall_m: 0.6549\n",
      "Epoch 11/30\n",
      "919/919 - 0s - loss: 0.3889 - acc: 0.7998 - f1_m: 0.7576 - precision_m: 0.8099 - recall_m: 0.7188 - val_loss: 0.3578 - val_acc: 0.8256 - val_f1_m: 0.7266 - val_precision_m: 0.8015 - val_recall_m: 0.6763\n",
      "Epoch 12/30\n",
      "919/919 - 0s - loss: 0.3401 - acc: 0.8292 - f1_m: 0.7887 - precision_m: 0.8634 - recall_m: 0.7383 - val_loss: 0.3156 - val_acc: 0.8477 - val_f1_m: 0.7546 - val_precision_m: 0.8245 - val_recall_m: 0.7044\n",
      "Epoch 13/30\n",
      "919/919 - 0s - loss: 0.2974 - acc: 0.8466 - f1_m: 0.8098 - precision_m: 0.8798 - recall_m: 0.7628 - val_loss: 0.2792 - val_acc: 0.8675 - val_f1_m: 0.7809 - val_precision_m: 0.8482 - val_recall_m: 0.7334\n",
      "Epoch 14/30\n",
      "919/919 - 0s - loss: 0.2612 - acc: 0.8716 - f1_m: 0.8454 - precision_m: 0.9158 - recall_m: 0.7938 - val_loss: 0.2480 - val_acc: 0.8962 - val_f1_m: 0.8151 - val_precision_m: 0.8642 - val_recall_m: 0.7806\n",
      "Epoch 15/30\n",
      "919/919 - 0s - loss: 0.2305 - acc: 0.8988 - f1_m: 0.8786 - precision_m: 0.9259 - recall_m: 0.8402 - val_loss: 0.2205 - val_acc: 0.9183 - val_f1_m: 0.8450 - val_precision_m: 0.8870 - val_recall_m: 0.8116\n",
      "Epoch 16/30\n",
      "919/919 - 0s - loss: 0.2041 - acc: 0.9282 - f1_m: 0.9158 - precision_m: 0.9472 - recall_m: 0.8905 - val_loss: 0.1976 - val_acc: 0.9426 - val_f1_m: 0.8735 - val_precision_m: 0.8959 - val_recall_m: 0.8557\n",
      "Epoch 17/30\n",
      "919/919 - 0s - loss: 0.1822 - acc: 0.9576 - f1_m: 0.9515 - precision_m: 0.9566 - recall_m: 0.9519 - val_loss: 0.1780 - val_acc: 0.9691 - val_f1_m: 0.9020 - val_precision_m: 0.9044 - val_recall_m: 0.9003\n",
      "Epoch 18/30\n",
      "919/919 - 0s - loss: 0.1638 - acc: 0.9674 - f1_m: 0.9637 - precision_m: 0.9673 - recall_m: 0.9629 - val_loss: 0.1616 - val_acc: 0.9713 - val_f1_m: 0.9042 - val_precision_m: 0.9088 - val_recall_m: 0.9003\n",
      "Epoch 19/30\n",
      "919/919 - 0s - loss: 0.1485 - acc: 0.9739 - f1_m: 0.9700 - precision_m: 0.9703 - recall_m: 0.9707 - val_loss: 0.1475 - val_acc: 0.9713 - val_f1_m: 0.9042 - val_precision_m: 0.9088 - val_recall_m: 0.9003\n",
      "Epoch 20/30\n",
      "919/919 - 0s - loss: 0.1354 - acc: 0.9793 - f1_m: 0.9752 - precision_m: 0.9762 - recall_m: 0.9754 - val_loss: 0.1355 - val_acc: 0.9757 - val_f1_m: 0.9087 - val_precision_m: 0.9133 - val_recall_m: 0.9047\n",
      "Epoch 21/30\n",
      "919/919 - 0s - loss: 0.1245 - acc: 0.9793 - f1_m: 0.9774 - precision_m: 0.9812 - recall_m: 0.9758 - val_loss: 0.1251 - val_acc: 0.9779 - val_f1_m: 0.9118 - val_precision_m: 0.9138 - val_recall_m: 0.9108\n",
      "Epoch 22/30\n",
      "919/919 - 0s - loss: 0.1148 - acc: 0.9804 - f1_m: 0.9791 - precision_m: 0.9816 - recall_m: 0.9783 - val_loss: 0.1159 - val_acc: 0.9801 - val_f1_m: 0.9140 - val_precision_m: 0.9182 - val_recall_m: 0.9108\n",
      "Epoch 23/30\n",
      "919/919 - 0s - loss: 0.1065 - acc: 0.9815 - f1_m: 0.9779 - precision_m: 0.9793 - recall_m: 0.9781 - val_loss: 0.1078 - val_acc: 0.9823 - val_f1_m: 0.9166 - val_precision_m: 0.9186 - val_recall_m: 0.9159\n",
      "Epoch 24/30\n",
      "919/919 - 0s - loss: 0.0991 - acc: 0.9826 - f1_m: 0.9805 - precision_m: 0.9810 - recall_m: 0.9812 - val_loss: 0.1006 - val_acc: 0.9845 - val_f1_m: 0.9189 - val_precision_m: 0.9186 - val_recall_m: 0.9203\n",
      "Epoch 25/30\n",
      "919/919 - 0s - loss: 0.0926 - acc: 0.9902 - f1_m: 0.9862 - precision_m: 0.9937 - recall_m: 0.9806 - val_loss: 0.0944 - val_acc: 0.9845 - val_f1_m: 0.9189 - val_precision_m: 0.9186 - val_recall_m: 0.9203\n",
      "Epoch 26/30\n",
      "919/919 - 0s - loss: 0.0868 - acc: 0.9913 - f1_m: 0.9900 - precision_m: 0.9983 - recall_m: 0.9825 - val_loss: 0.0886 - val_acc: 0.9868 - val_f1_m: 0.9210 - val_precision_m: 0.9186 - val_recall_m: 0.9243\n",
      "Epoch 27/30\n",
      "919/919 - 0s - loss: 0.0815 - acc: 0.9924 - f1_m: 0.9919 - precision_m: 0.9978 - recall_m: 0.9865 - val_loss: 0.0835 - val_acc: 0.9890 - val_f1_m: 0.9239 - val_precision_m: 0.9241 - val_recall_m: 0.9243\n",
      "Epoch 28/30\n",
      "919/919 - 0s - loss: 0.0769 - acc: 0.9924 - f1_m: 0.9914 - precision_m: 0.9978 - recall_m: 0.9857 - val_loss: 0.0788 - val_acc: 0.9890 - val_f1_m: 0.9239 - val_precision_m: 0.9241 - val_recall_m: 0.9243\n",
      "Epoch 29/30\n",
      "919/919 - 0s - loss: 0.0726 - acc: 0.9924 - f1_m: 0.9910 - precision_m: 0.9981 - recall_m: 0.9845 - val_loss: 0.0745 - val_acc: 0.9890 - val_f1_m: 0.9239 - val_precision_m: 0.9241 - val_recall_m: 0.9243\n",
      "Epoch 30/30\n",
      "919/919 - 0s - loss: 0.0687 - acc: 0.9924 - f1_m: 0.9921 - precision_m: 0.9984 - recall_m: 0.9864 - val_loss: 0.0707 - val_acc: 0.9890 - val_f1_m: 0.9239 - val_precision_m: 0.9241 - val_recall_m: 0.9243\n"
     ]
    }
   ],
   "source": [
    "history = model.fit(X_train, y_train, epochs=30, batch_size=32, verbose=2, validation_data=(X_test,y_test), callbacks=[callback])"
   ]
  },
  {
   "cell_type": "code",
   "execution_count": 26,
   "id": "f28b1ce5",
   "metadata": {},
   "outputs": [],
   "source": [
    "loss, accuracy, f1_score, precision, recall = model.evaluate(X_test, y_test, verbose=0)"
   ]
  },
  {
   "cell_type": "code",
   "execution_count": 27,
   "id": "c9e63f9b",
   "metadata": {},
   "outputs": [
    {
     "name": "stdout",
     "output_type": "stream",
     "text": [
      "F1 Score  =  0.923865\n",
      "Precision =  0.924127\n",
      "Recall    =  0.92426896\n"
     ]
    }
   ],
   "source": [
    "print(\"F1 Score  = \",f1_score)\n",
    "print(\"Precision = \",precision)\n",
    "print(\"Recall    = \", recall)"
   ]
  },
  {
   "cell_type": "code",
   "execution_count": 28,
   "id": "65d04f15",
   "metadata": {
    "scrolled": false
   },
   "outputs": [
    {
     "name": "stdout",
     "output_type": "stream",
     "text": [
      "dict_keys(['loss', 'acc', 'f1_m', 'precision_m', 'recall_m', 'val_loss', 'val_acc', 'val_f1_m', 'val_precision_m', 'val_recall_m'])\n"
     ]
    },
    {
     "data": {
      "image/png": "[encoded data removed]",
      "text/plain": [
       "<Figure size 432x288 with 1 Axes>"
      ]
     },
     "metadata": {
      "needs_background": "light"
     },
     "output_type": "display_data"
    },
    {
     "data": {
      "image/png": "[encoded data removed]",
      "text/plain": [
       "<Figure size 432x288 with 1 Axes>"
      ]
     },
     "metadata": {
      "needs_background": "light"
     },
     "output_type": "display_data"
    }
   ],
   "source": [
    "print(history.history.keys())\n",
    "# summarize history for accuracy\n",
    "plt.plot(history.history['acc'])\n",
    "plt.plot(history.history['val_acc'])\n",
    "plt.title('model accuracy')\n",
    "plt.ylabel('accuracy')\n",
    "plt.xlabel('epoch')\n",
    "plt.legend(['train', 'test'], loc='upper left')\n",
    "plt.show()\n",
    "# summarize history for loss\n",
    "plt.plot(history.history['loss'])\n",
    "plt.plot(history.history['val_loss'])\n",
    "plt.title('model loss')\n",
    "plt.ylabel('loss')\n",
    "plt.xlabel('epoch')\n",
    "plt.legend(['train', 'test'], loc='upper left')\n",
    "plt.show()"
   ]
  },
  {
   "cell_type": "code",
   "execution_count": null,
   "id": "673c9889",
   "metadata": {},
   "outputs": [],
   "source": []
  },
  {
   "cell_type": "code",
   "execution_count": null,
   "id": "14fe89f8",
   "metadata": {},
   "outputs": [],
   "source": []
  }
 ],
 "metadata": {
  "kernelspec": {
   "display_name": "Python 3",
   "language": "python",
   "name": "python3"
  },
  "language_info": {
   "codemirror_mode": {
    "name": "ipython",
    "version": 3
   },
   "file_extension": ".py",
   "mimetype": "text/x-python",
   "name": "python",
   "nbconvert_exporter": "python",
   "pygments_lexer": "ipython3",
   "version": "3.6.13"
  }
 },
 "nbformat": 4,
 "nbformat_minor": 5
}
